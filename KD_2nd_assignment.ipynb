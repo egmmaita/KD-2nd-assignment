{
  "nbformat": 4,
  "nbformat_minor": 0,
  "metadata": {
    "colab": {
      "name": "KD-2nd-assignment.ipynb",
      "provenance": [],
      "collapsed_sections": [],
      "include_colab_link": true
    },
    "kernelspec": {
      "display_name": "Python 3",
      "name": "python3"
    },
    "language_info": {
      "name": "python"
    },
    "accelerator": "GPU"
  },
  "cells": [
    {
      "cell_type": "markdown",
      "metadata": {
        "id": "view-in-github",
        "colab_type": "text"
      },
      "source": [
        "<a href=\"https://colab.research.google.com/github/egmmaita/KD-2nd-assignment/blob/main/KD_2nd_assignment.ipynb\" target=\"_parent\"><img src=\"https://colab.research.google.com/assets/colab-badge.svg\" alt=\"Open In Colab\"/></a>"
      ]
    },
    {
      "cell_type": "markdown",
      "metadata": {
        "id": "sopunS2gOrH2"
      },
      "source": [
        "# Params definition\n",
        "\n",
        "Define training parameters and install required libraries."
      ]
    },
    {
      "cell_type": "code",
      "metadata": {
        "id": "mfTpCzmFOvjI"
      },
      "source": [
        "BATCH_SIZE = 8\n",
        "SEQUENCE_LENGTH = 100\n",
        "EMBEDDING_SIZE = 256\n",
        "RNN_SIZE = 1024\n",
        "\n",
        "NUM_ITERS=1000"
      ],
      "execution_count": null,
      "outputs": []
    },
    {
      "cell_type": "code",
      "metadata": {
        "id": "vVScvB5tQc9o",
        "colab": {
          "base_uri": "https://localhost:8080/"
        },
        "outputId": "9f26c215-11f9-4c1f-bff5-bcfdb947b06a"
      },
      "source": [
        "!pip install mitdeeplearning -q\n",
        "!apt-get -qq install abcmidi timidity > /dev/null 2>&1"
      ],
      "execution_count": null,
      "outputs": [
        {
          "output_type": "stream",
          "text": [
            "\u001b[K     |████████████████████████████████| 2.1MB 6.9MB/s \n",
            "\u001b[?25h  Building wheel for mitdeeplearning (setup.py) ... \u001b[?25l\u001b[?25hdone\n"
          ],
          "name": "stdout"
        }
      ]
    },
    {
      "cell_type": "code",
      "metadata": {
        "id": "SFev_vIOEMU-"
      },
      "source": [
        "import mitdeeplearning as mdl\n",
        "import torch\n",
        "import torch.nn as nn\n",
        "import torch.nn.functional as F\n",
        "import numpy as np\n",
        "np.random.seed(0)\n",
        "import os\n",
        "import time\n",
        "import functools\n",
        "from IPython import display as ipythondisplay\n",
        "from tqdm import tqdm\n",
        "import os\n",
        "from pathlib import Path\n",
        "from matplotlib import pyplot as plt"
      ],
      "execution_count": 73,
      "outputs": []
    },
    {
      "cell_type": "markdown",
      "metadata": {
        "id": "Q89ZVzubKm2W"
      },
      "source": [
        "# Dataset creation"
      ]
    },
    {
      "cell_type": "markdown",
      "metadata": {
        "id": "Nikq1bcE3Isv"
      },
      "source": [
        "Data preparation steps:\n",
        "\n",
        "1.   Find MIDI files and convert to ABC (text file discribing notes)\n",
        "2.   Read ABC songs and create dataset (list of songs)\n",
        "3.   Create vocabolary \n",
        "4.   Preprocess songs\n",
        "5.   Create batch function\n",
        "\n"
      ]
    },
    {
      "cell_type": "markdown",
      "metadata": {
        "id": "pszhD3j1-C94"
      },
      "source": [
        "### 1.   Find MIDI files and convert to ABC"
      ]
    },
    {
      "cell_type": "code",
      "metadata": {
        "id": "C09S-ej8VkH1",
        "colab": {
          "base_uri": "https://localhost:8080/"
        },
        "outputId": "435eae07-03ef-4589-8655-03101fdc784c"
      },
      "source": [
        "# !find . -name \"*.abc\" -type f -delete\n",
        "# !find . -name \"*.mid\" -type f -delete\n",
        "# !find . -name \"*.midi\" -type f -delete"
      ],
      "execution_count": null,
      "outputs": [
        {
          "output_type": "stream",
          "text": [
            "rm: cannot remove 'midi_data': Is a directory\n",
            "rm: cannot remove 'midi_data_jazz': Is a directory\n"
          ],
          "name": "stdout"
        }
      ]
    },
    {
      "cell_type": "code",
      "metadata": {
        "colab": {
          "base_uri": "https://localhost:8080/"
        },
        "id": "MhqmCbYTVnAw",
        "outputId": "0d52b359-8329-4acb-dbe7-4c32af4fe4dc"
      },
      "source": [
        "!gdown --id 1BKvGydy26B8RbgAr9X0szwWiWazJaG6C\n",
        "!unzip -q midi_data.zip\n",
        "!rm midi_data.zip\n",
        "!wget https://github.com/egmmaita/KD-2nd-assignmment/raw/main/midi_data_jazz.zip\n",
        "!unzip -q midi_data_jazz.zip\n",
        "!rm midi_data_jazz.zip"
      ],
      "execution_count": null,
      "outputs": [
        {
          "output_type": "stream",
          "text": [
            "Downloading...\n",
            "From: https://drive.google.com/uc?id=1BKvGydy26B8RbgAr9X0szwWiWazJaG6C\n",
            "To: /content/midi_data.zip\n",
            "\r  0% 0.00/566k [00:00<?, ?B/s]\r100% 566k/566k [00:00<00:00, 75.8MB/s]\n",
            "--2021-05-01 14:46:20--  https://github.com/egmmaita/KD-2nd-assignmment/raw/main/midi_data_jazz.zip\n",
            "Resolving github.com (github.com)... 140.82.112.3\n",
            "Connecting to github.com (github.com)|140.82.112.3|:443... connected.\n",
            "HTTP request sent, awaiting response... 301 Moved Permanently\n",
            "Location: https://github.com/egmmaita/KD-2nd-assignment/raw/main/midi_data_jazz.zip [following]\n",
            "--2021-05-01 14:46:20--  https://github.com/egmmaita/KD-2nd-assignment/raw/main/midi_data_jazz.zip\n",
            "Reusing existing connection to github.com:443.\n",
            "HTTP request sent, awaiting response... 302 Found\n",
            "Location: https://raw.githubusercontent.com/egmmaita/KD-2nd-assignment/main/midi_data_jazz.zip [following]\n",
            "--2021-05-01 14:46:20--  https://raw.githubusercontent.com/egmmaita/KD-2nd-assignment/main/midi_data_jazz.zip\n",
            "Resolving raw.githubusercontent.com (raw.githubusercontent.com)... 185.199.109.133, 185.199.111.133, 185.199.108.133, ...\n",
            "Connecting to raw.githubusercontent.com (raw.githubusercontent.com)|185.199.109.133|:443... connected.\n",
            "HTTP request sent, awaiting response... 200 OK\n",
            "Length: 786809 (768K) [application/zip]\n",
            "Saving to: ‘midi_data_jazz.zip’\n",
            "\n",
            "midi_data_jazz.zip  100%[===================>] 768.37K  --.-KB/s    in 0.05s   \n",
            "\n",
            "2021-05-01 14:46:20 (13.9 MB/s) - ‘midi_data_jazz.zip’ saved [786809/786809]\n",
            "\n"
          ],
          "name": "stdout"
        }
      ]
    },
    {
      "cell_type": "code",
      "metadata": {
        "id": "oK-OgxUDERMn",
        "colab": {
          "base_uri": "https://localhost:8080/"
        },
        "outputId": "9bfc42d3-42f9-4e49-a26e-321fd65c2f2f"
      },
      "source": [
        "# !find . -name \"*.abc\" -type f -delete\n",
        "!find midi_data -type f -exec midi2abc {} -o {}.abc \\;\n",
        "!find midi_data_jazz -type f -exec midi2abc {} -o {}.abc \\;"
      ],
      "execution_count": null,
      "outputs": [
        {
          "output_type": "stream",
          "text": [
            "Error: unexpected running status\n",
            "Error: Time=537783 Track=2 Note terminated when not on - pitch 64\n",
            "Error: Time=537971 Track=2 Note terminated when not on - pitch 64\n",
            "Error: Time=538339 Track=2 Note terminated when not on - pitch 84\n",
            "Error in MIDI file - notes still on at end of track!\n",
            "Error: expecting MTrk\n",
            "Error: Time=188166 Track=1 Note terminated when not on - pitch 64\n",
            "Error: Time=188204 Track=1 Note terminated when not on - pitch 64\n",
            "Error: Time=204507 Track=1 Note terminated when not on - pitch 0\n",
            "Error in MIDI file - notes still on at end of track!\n",
            "Error: expecting MTrk\n",
            "Advancing by 0 in printtrack!\n",
            "Error: Time=123473 Track=1 Note terminated when not on - pitch 100\n",
            "Error: Time=126711 Track=1 Note terminated when not on - pitch 100\n",
            "Error: Time=128007 Track=1 Note terminated when not on - pitch 80\n",
            "Error: Time=200399 Track=1 Note terminated when not on - pitch 84\n",
            "Error in MIDI file - notes still on at end of track!\n",
            "Error: expecting MTrk\n",
            "Error: Time=24910 Track=4 Note terminated when not on - pitch 76\n",
            "Error in MIDI file - notes still on at end of track!\n",
            "Error in MIDI file - notes still on at end of track!\n",
            "Error in MIDI file - notes still on at end of track!\n",
            "Error in MIDI file - notes still on at end of track!\n",
            "Error in MIDI file - notes still on at end of track!\n",
            "Error in MIDI file - notes still on at end of track!\n",
            "Error in MIDI file - notes still on at end of track!\n",
            "Error in MIDI file - notes still on at end of track!\n",
            "Error in MIDI file - notes still on at end of track!\n",
            "Error in MIDI file - notes still on at end of track!\n",
            "Error - note too short!\n",
            "Advancing by 0 in printtrack!\n",
            "Error: Time=10704 Track=6 Note terminated when not on - pitch 64\n",
            "Error: Time=22992 Track=6 Note terminated when not on - pitch 64\n",
            "Error: Time=35280 Track=6 Note terminated when not on - pitch 64\n",
            "Error in MIDI file - notes still on at end of track!\n",
            "Error: Time=20131 Track=3 Note terminated when not on - pitch 69\n",
            "Error: Time=20188 Track=3 Note terminated when not on - pitch 69\n",
            "Error: Time=1488 Track=6 Note terminated when not on - pitch 43\n",
            "Error: Time=3024 Track=6 Note terminated when not on - pitch 43\n",
            "Error in MIDI file - notes still on at end of track!\n",
            "Error in MIDI file - notes still on at end of track!\n"
          ],
          "name": "stdout"
        }
      ]
    },
    {
      "cell_type": "markdown",
      "metadata": {
        "id": "pyVDpJSg72VS"
      },
      "source": [
        "### 2.   Read ABC songs and create dataset (list of songs)\n",
        "\n",
        "\n",
        "**What is ABC notation?**\n",
        "\n",
        "https://en.wikipedia.org/wiki/ABC_notation\n",
        "\n",
        "ABC notation is a shorthand form of musical notation for computers. In basic form it uses the letter notation with a–g, A–G, and z, to represent the corresponding notes and rests, with other elements used to place added value on these – sharp, flat, raised or lowered octave, the note length, key, and ornamentation. \n",
        "\n",
        "The ABC notation of music does not simply contain information on the notes being played, but additionally there is meta information such as the song title, key, and tempo and instrument. \n",
        "\n",
        "The differents instruments playing the song are delimitated by a ```\\nV:``` string.\n",
        "For simplicity we want to get only the first instrument for each song and remove useless lines starting with a ```%``` character.\n",
        "\n",
        "ABC file example:"
      ]
    },
    {
      "cell_type": "markdown",
      "metadata": {
        "id": "jR9sQ94WGLvI"
      },
      "source": [
        "![example.png](data:image/png;base64,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)"
      ]
    },
    {
      "cell_type": "code",
      "metadata": {
        "id": "a5b48sqZZEUA"
      },
      "source": [
        "def get_songs(genre_paths):\n",
        "  songs = []\n",
        "  for genre_path in genre_paths:\n",
        "    fnames = sorted([x for x in os.listdir(genre_path) if x.endswith(\".abc\")])\n",
        "    for fname in fnames:\n",
        "       with open(Path(genre_path)/fname) as f:\n",
        "         try:\n",
        "            data = f.read()\n",
        "            # Split song on different instruments (\\nV:) and take only first\n",
        "            text = data.split(\"\\nV:\")[0] + data.split(\"\\nV:\")[1]\n",
        "\n",
        "            # Remove comments and useless lines\n",
        "            list_selected_rows = []\n",
        "            key_missing = True\n",
        "            for row in text.split(\"\\n\"):\n",
        "              if row[0]==\"K\" and key_missing:\n",
        "                list_selected_rows.append(row)\n",
        "                key_missing = False\n",
        "              if row[0]!=\"K\" and row[0] != \"%\" and row[0] != \"w\":  # remove eventual second key, lirics (w:...) and comments lines\n",
        "                list_selected_rows.append(row)\n",
        "            text = \"\\n\".join(list_selected_rows)\n",
        "\n",
        "            from_string = \"from \" + genre_path + \"/\"\n",
        "            songs.append(text.replace(from_string, \"\").replace(\".mid\", \"\"))\n",
        "         \n",
        "         except:\n",
        "            pass\n",
        "\n",
        "  return songs\n"
      ],
      "execution_count": null,
      "outputs": []
    },
    {
      "cell_type": "code",
      "metadata": {
        "id": "p_v7WPAqF1Rz",
        "colab": {
          "base_uri": "https://localhost:8080/"
        },
        "outputId": "83366d8d-2eda-4f64-d6ab-a3280a17611e"
      },
      "source": [
        "songs = get_songs([\"midi_data\", \"midi_data_jazz\"])\n",
        "print(f\"The dataset consists of {len(songs)} songs.\")"
      ],
      "execution_count": null,
      "outputs": [
        {
          "output_type": "stream",
          "text": [
            "The dataset consists of 94 songs.\n"
          ],
          "name": "stdout"
        }
      ]
    },
    {
      "cell_type": "code",
      "metadata": {
        "id": "CjRxXQ4GKcOd"
      },
      "source": [
        "#mdl.lab1.play_song(songs[0][:1000])"
      ],
      "execution_count": null,
      "outputs": []
    },
    {
      "cell_type": "markdown",
      "metadata": {
        "id": "JSkUzRLL8odE"
      },
      "source": [
        "### 3.   Create vocabolary\n",
        "\n",
        "Before we begin training our RNN model, we'll need to create a numerical representation of our text-based dataset. To do this, we'll generate two lookup tables: one that maps characters to numbers, and a second that maps numbers back to characters. Recall that we just identified the unique characters present in the text."
      ]
    },
    {
      "cell_type": "markdown",
      "metadata": {
        "id": "nMTDzt8GDYZB"
      },
      "source": [
        "3.1 Create a vocabulary for the songs and define numerical representation of text."
      ]
    },
    {
      "cell_type": "code",
      "metadata": {
        "id": "epR0226ALY1e"
      },
      "source": [
        "# Find all unique characters in the joined string\n",
        "data = songs[0]  \n",
        "all_other_songs = songs[1:]\n",
        "for song in all_other_songs:\n",
        "  data += \"\\n\\n\\n\\n\" + song\n",
        "characters = [character for character in data if len(character)>0]\n",
        "vocab = list(set(characters))\n",
        "\n",
        "# Create a mapping from character to unique index.\n",
        "# For example, to get the index of the character \"d\", \n",
        "# we can evaluate `char2idx[\"d\"]`.  \n",
        "char2idx = {character: idx for idx,character in enumerate(vocab)}\n",
        "\n",
        "# Create a mapping from indices to characters. This is\n",
        "# the inverse of char2idx and allows us to convert back\n",
        "# from unique index to the character in our vocabulary.\n",
        "idx2char = {idx: character for idx,character in enumerate(vocab)}"
      ],
      "execution_count": null,
      "outputs": []
    },
    {
      "cell_type": "markdown",
      "metadata": {
        "id": "6r9EyN4zDgr0"
      },
      "source": [
        "3.2 Create a vocabulary of the song keys to be provided, as additional input, to the model in order to control the song generation."
      ]
    },
    {
      "cell_type": "code",
      "metadata": {
        "id": "Iu43I1vdX0XJ"
      },
      "source": [
        "# Extract keys\n",
        "rows = (\"\\n\".join(songs)).split(\"\\n\")\n",
        "keys = sorted(list(set([x.split(\" \")[0][2:] for x in rows if x[:2] == \"K:\"])))\n",
        "\n",
        "# Create keys vocabulary\n",
        "key2idx = {key: idx for idx,key in enumerate(keys)}\n",
        "idx2key = {idx: key for idx,key in enumerate(keys)}"
      ],
      "execution_count": 77,
      "outputs": []
    },
    {
      "cell_type": "markdown",
      "metadata": {
        "id": "XqAIGdVyHgwE"
      },
      "source": [
        "### 4. Preprocessing songs"
      ]
    },
    {
      "cell_type": "markdown",
      "metadata": {
        "id": "8DJDPkJbFjXq"
      },
      "source": [
        "Define a function ``` get_song_corpus_key(song) ``` to extract the song corpus (sequence of notes and chords) and the playing key. The output is a dict containing both the corpus and the key for the passed song. "
      ]
    },
    {
      "cell_type": "code",
      "metadata": {
        "id": "FiRuTxCQD4qs"
      },
      "source": [
        "def get_song_corpus_key(string):\n",
        "  # Split song lines\n",
        "  splitted_string = string.split(\"\\n\")\n",
        "\n",
        "  # Get song header (title, time, key, ...)\n",
        "  header = splitted_string[:6]\n",
        "  key = [x.split(\" \")[0][2:] for x in header if x[:2] == \"K:\"][0]\n",
        "\n",
        "  # Get song corpus (notes)\n",
        "  corpus = splitted_string[6:]\n",
        "  \n",
        "  # Remove song pauses\n",
        "  corpus = [l for l in corpus if len(l)>8]\n",
        "  corpus = \"\\n\".join(corpus)\n",
        "\n",
        "  return {\"key\": key, \"song\": corpus}"
      ],
      "execution_count": 78,
      "outputs": []
    },
    {
      "cell_type": "markdown",
      "metadata": {
        "id": "MuZ8Q6TZF-Xp"
      },
      "source": [
        "Define a function ``` vectorize_string(string) ``` to convert both song corpus and the key to integers. The function internally calls the ``` get_song_corpus_key(song) ``` function to receive extract the two requirede elements for the passed song and than has to convert them to integers using the created vocabularies.\n",
        "\n",
        "**TODO**: convert both the key and each character of the song corpus to a int. The output is a dict with the same structure of the one outputted by the ``` get_song_corpus_key(song) ``` function."
      ]
    },
    {
      "cell_type": "code",
      "metadata": {
        "id": "Z4bdbvZyMjrW"
      },
      "source": [
        "def vectorize_string(string):\n",
        "  # Get song corpus and key\n",
        "  song_dict = get_song_corpus_key(string)\n",
        "  key = song_dict[\"key\"]\n",
        "  song = song_dict[\"song\"]\n",
        "\n",
        "  int_key = key2idx[key]\n",
        "  vectorized_output = [char2idx[character] for character in song]\n",
        "\n",
        "  song_dict = {\"key\": int_key, \"song\": vectorized_output}\n",
        "  \n",
        "  return song_dict"
      ],
      "execution_count": 79,
      "outputs": []
    },
    {
      "cell_type": "code",
      "metadata": {
        "id": "QABwz9aTMPTt"
      },
      "source": [
        "# Convert songs to their vector representation using the created function\n",
        "vec_songs = [vectorize_string(x) for x in songs]"
      ],
      "execution_count": 80,
      "outputs": []
    },
    {
      "cell_type": "markdown",
      "metadata": {
        "id": "gFCMlzjzHV5S"
      },
      "source": [
        "### 5. Get batch\n",
        "\n",
        "In our text file, we saw that a song is a block of text that we converted int a vector representation. Each song has its own length. However, dealing with different sequence lengths may be difficult. For simplicity, when generating a batch, we will just get `N` random songs from our dataset, where N is the batch size. \n",
        "\n",
        "Than for each song we will extract a random subsample of `SEQUENCE_LENGTH` size from index `idx` to `idx + SEQUENCE_LENGTH`. For each input, the corresponding target will contain the same length of elements, except shifted one character to the right.\n",
        "\n",
        "To do this we will extract the targets as the subsequence from index `idx + 1` to `idx + SEQUENCE_LENGTH + 1`. Suppose `SEQUENCE_LENGTH` is 4 and our text is \"Hello\". Then, our input sequence is \"Hell\" and the target sequence is \"ello\"."
      ]
    },
    {
      "cell_type": "code",
      "metadata": {
        "id": "rpzdbgm1M5HL"
      },
      "source": [
        "### Batch definition to create training examples ###\n",
        "\n",
        "def get_batch(vec_songs, seq_length, batch_size):\n",
        "\n",
        "  sampled_songs = np.random.choice(vec_songs, size = batch_size) \n",
        "  in_batch = []\n",
        "  keys_batch = []\n",
        "  tar_batch = []\n",
        "\n",
        "  for song_dict in sampled_songs:\n",
        "    key = song_dict[\"key\"]\n",
        "    song = song_dict[\"song\"]\n",
        "    idx = np.random.randint(0,len(song)-seq_length-1)... # idx is a random index in range [0, len(song) - seq_length - 1]  choose safe range\n",
        "    in_batch.append(song[idx: idx + seq_length])\n",
        "    keys_batch.append(key)\n",
        "    tar_batch.append(song[idx + 1 : idx + seq_length + 1])\n",
        "  \n",
        "  in_batch = torch.LongTensor()\n",
        "  keys_batch = ... #TODO\n",
        "  keys_batch = keys_batch.unsqueeze(1)\n",
        "  tar_batch = ... #TODO\n",
        "\n",
        "\n",
        "    # for i in range(num_batch_groups):\n",
        "    #     # Get the scenes in this group\n",
        "    #     group_scene_inputs = scene_inputs[i*batch_size:(i+1)*batch_size]\n",
        "    #     group_scene_targets = scene_targets[i*batch_size:(i+1)*batch_size]\n",
        "    #     # Build batches for each mini-sequence\n",
        "    #     for j in range(num_mini_sequences):\n",
        "    #         reset_state = (j == 0)\n",
        "    #         batch_inputs = torch.LongTensor([group_scene_inputs[k][j] for k in range(batch_size)])\n",
        "    #         batch_targets = torch.LongTensor([group_scene_targets[k][j] for k in range(batch_size)])\n",
        "    #         batches.append((reset_state, batch_inputs, batch_targets))\n",
        "\n",
        "  return in_batch, keys_batch, tar_batch"
      ],
      "execution_count": null,
      "outputs": []
    },
    {
      "cell_type": "code",
      "metadata": {
        "id": "z64I_4IXNQmw"
      },
      "source": [
        "in_batch, keys_batch, tar_batch = get_batch(vec_songs, SEQUENCE_LENGTH, BATCH_SIZE)\n",
        "print(in_batch.shape)\n",
        "print(keys_batch.shape)\n",
        "print(tar_batch.shape)"
      ],
      "execution_count": null,
      "outputs": []
    },
    {
      "cell_type": "markdown",
      "metadata": {
        "id": "PjZTGwZ1PDbb"
      },
      "source": [
        "# Music Generator\n",
        "\n",
        "Our music generation nework is a LSTM based model which, given an input sequence of notes and the playing key, predicts the next note.\n",
        "\n",
        "To implement this mechanism we want to convert both the notes and the key into an embedding, using a specialized layer for each of them, than concatenate the two obtained embeddings and pass them to the LSTM netwok. Finally a Linear layer predicts the next note.\n",
        "\n",
        "**TODO**: \n",
        "\n",
        "1.   Create a `nn.Embedding` layer wich receives the **notes**, belonging to a `NUM_NOTES` sized vocabulary and produce an `EMBEDDING_SIZE` embedding.\n",
        "2.   Create a `nn.Embedding` layer wich receives the **keys**, belonging to a `NUM_KEYS` sized vocabulary and produce an `EMBEDDING_SIZE` embedding.\n",
        "3.   Create a `N` layers `nn.LSTM` wich receives an `EMBEDDING_SIZE * 2` sized input (we want to concatenate the embeddings coming from the notes and the keys).\n",
        "4.   Create a final decoder predicting the next note (as a classifies 😉)\n",
        "\n",
        "**NOTE**: before passing the notes and keys embeddings to the network we want to concatenate the two on the channels dimension (our input has a shape like [Batch, Sequence, Channels]. As the number of elements is different (you have only one key for a `SEQUENCE_LENGTH` sequence of notes) you have to replicate the keys on the sequence dimension (1) to have a size according to the length of your sequence `keys_embedding.repeat(1, SEQUENCE_LENGTH, 1)`\n"
      ]
    },
    {
      "cell_type": "code",
      "metadata": {
        "id": "Bx_7SmJ2PGxy"
      },
      "source": [
        "class MusicGenerator(nn.Module):\n",
        "    \n",
        "    def __init__(self, vocab_size, num_keys, embed_size, rnn_size):\n",
        "        # params: \n",
        "        # vocab_size: the number of the input vocabulary\n",
        "        # num_keys: the number of the keys vocabulary\n",
        "        # embed_size: the size of the feature embedding\n",
        "        # rnn_size: the number of neurons in the recurrent layer\n",
        "\n",
        "        # TODO: create network layers\n",
        "\n",
        "\n",
        "    def reset_state(self):\n",
        "        # Mark next state to be re-initialized\n",
        "        self.reset_next_state = True\n",
        "    \n",
        "    def forward(self, x, keys):\n",
        "        # Implement forward pass (state reset, input embedding, ...)\n",
        "        return x"
      ],
      "execution_count": null,
      "outputs": []
    },
    {
      "cell_type": "code",
      "metadata": {
        "id": "tJS7_0k-PZi4"
      },
      "source": [
        "dev = torch.device(\"cuda\" if torch.cuda.is_available() else \"cpu\")\n",
        "model = MusicGenerator(len(vocab), len(keys), EMBEDDING_SIZE, RNN_SIZE).to(dev)"
      ],
      "execution_count": null,
      "outputs": []
    },
    {
      "cell_type": "code",
      "metadata": {
        "id": "yRvfaycOP2I9"
      },
      "source": [
        "in_batch, keys_batch, tar_batch = get_batch(vec_songs, SEQUENCE_LENGTH, BATCH_SIZE)\n",
        "pred = model(in_batch.to(dev), keys_batch.to(dev))\n",
        "print(pred.shape)"
      ],
      "execution_count": null,
      "outputs": []
    },
    {
      "cell_type": "code",
      "metadata": {
        "id": "vr8YFIhQQQTp"
      },
      "source": [
        "# Get next value prediction\n",
        "val, index = pred[0, -1].max(0)\n",
        "\n",
        "print(index, val)"
      ],
      "execution_count": null,
      "outputs": []
    },
    {
      "cell_type": "markdown",
      "metadata": {
        "id": "ZxooMpTQRi6c"
      },
      "source": [
        "# Training procedure"
      ]
    },
    {
      "cell_type": "code",
      "metadata": {
        "id": "wwSR7kPwRkvv"
      },
      "source": [
        "def train(model, optim, criterion, dataset, dev=torch.device('cpu')):\n",
        "  try:\n",
        "    model.to(dev)\n",
        "\n",
        "    # Initialize training history\n",
        "    loss_history = []\n",
        "\n",
        "    # Set network mode\n",
        "    model.train()\n",
        "\n",
        "    for iter in range(NUM_ITERS):\n",
        "      # reset model state \n",
        "      model.reset_state()\n",
        "\n",
        "      in_batch, keys_batch, tar_batch = get_batch(dataset, SEQUENCE_LENGTH, BATCH_SIZE)\n",
        "      in_batch = in_batch.to(dev)\n",
        "      keys_batch = keys_batch.to(dev)\n",
        "      tar_batch = tar_batch.to(dev)\n",
        "\n",
        "      output = model(in_batch, keys_batch)\n",
        "\n",
        "      # Implement training\n",
        "      # 1. Forward through network\n",
        "      # 2. Compute loss\n",
        "      # 4. Backward loss\n",
        "      # 5. Update params\n",
        "\n",
        "      # Print info\n",
        "      print(f\"Iter: {iter+1}, loss: {loss_history[-1]:.4f}\")\n",
        "  except KeyboardInterrupt:\n",
        "    print(\"Interrupted\")\n",
        "  finally: \n",
        "    # Plot loss\n",
        "    plt.title(\"loss\")\n",
        "    plt.plot(loss_history, label=\"Train\")\n",
        "    plt.legend()\n",
        "    plt.show()\n",
        "    "
      ],
      "execution_count": null,
      "outputs": []
    },
    {
      "cell_type": "code",
      "metadata": {
        "id": "8HB3R8bOTL9H"
      },
      "source": [
        "criterion = ... #define a loss\n",
        "optimizer = ... #define an optimizer"
      ],
      "execution_count": null,
      "outputs": []
    },
    {
      "cell_type": "code",
      "metadata": {
        "id": "VPQobhe7TRdu"
      },
      "source": [
        "train(model, optimizer, criterion, vec_songs, dev=dev)"
      ],
      "execution_count": null,
      "outputs": []
    },
    {
      "cell_type": "code",
      "metadata": {
        "id": "a3fp7FyzfmIV"
      },
      "source": [
        "def generate_text(model, start_string, key, generation_length=1000):\n",
        "  with torch.no_grad():\n",
        "    input_eval = [char2idx[s] for s in start_string]\n",
        "    # convert to tensor and add the batch dim\n",
        "    input_eval = torch.tensor(input_eval).unsqueeze(0).to(dev)\n",
        "\n",
        "\n",
        "    key = [keys2idx[key]]\n",
        "    key = torch.tensor(key, dtype=torch.long).unsqueeze(0).to(dev)\n",
        "\n",
        "    # Empty string to store our results\n",
        "    text_generated = []\n",
        "\n",
        "    # Here batch size == 1\n",
        "    model.reset_state()\n",
        "\n",
        "    for i in tqdm(range(generation_length)):\n",
        "      predictions = model(input_eval, key)[:, -1:, :]\n",
        "      # predictions shape : 1 x 1 x vocab_size\n",
        "      \n",
        "      # Get the predicted id\n",
        "      predicted_id = predictions[0].max(1)[1]\n",
        "\n",
        "      # Prepare the next input and add the batch dimension\n",
        "      input_eval = predicted_id.unsqueeze(dim = 0)\n",
        "\n",
        "      text_generated.append(idx2char[predicted_id])\n",
        "\n",
        "  return (start_string + ''.join(text_generated))"
      ],
      "execution_count": null,
      "outputs": []
    },
    {
      "cell_type": "code",
      "metadata": {
        "id": "IqMeL_JRgJex"
      },
      "source": [
        "# {'A': 0, 'C': 1, 'D': 2, 'E': 3, 'F': 4, 'G': 5, 'Gb': 6}\n",
        "start_string = \"FG FE|\"\n",
        "key=\"Gb\"\n",
        "header = \"X: 1\\nT: KD-Course-2021\\nM: 4/4\\nL: 1/8\\nQ:1/4=117\\nK:C % 0 sharps\\n\\n\"\n",
        "\n",
        "out = generate_text(model, start_string, key, generation_length=1000)\n",
        "gen_song = header + out\n",
        "\n",
        "print(gen_song)"
      ],
      "execution_count": null,
      "outputs": []
    },
    {
      "cell_type": "code",
      "metadata": {
        "id": "lsnG1b_elGlY"
      },
      "source": [
        "mdl.lab1.play_song(gen_song)"
      ],
      "execution_count": null,
      "outputs": []
    }
  ]
}